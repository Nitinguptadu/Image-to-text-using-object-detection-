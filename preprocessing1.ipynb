{
 "cells": [
  {
   "cell_type": "code",
   "execution_count": 1,
   "metadata": {},
   "outputs": [],
   "source": [
    "import matplotlib.pyplot as plt\n",
    "import os\n",
    "import cv2\n",
    "from tqdm import tqdm\n",
    "import numpy as np"
   ]
  },
  {
   "cell_type": "code",
   "execution_count": 3,
   "metadata": {},
   "outputs": [
    {
     "name": "stderr",
     "output_type": "stream",
     "text": [
      "  0%|          | 0/5 [00:00<?, ?it/s]\n",
      "100%|██████████| 3/3 [00:00<00:00, 40.41it/s]\n",
      "\n",
      "100%|██████████| 3/3 [00:00<00:00, 53.89it/s]\n",
      " 40%|████      | 2/5 [00:00<00:00, 15.04it/s]\n",
      "100%|██████████| 2/2 [00:00<00:00, 42.31it/s]\n",
      "\n",
      "100%|██████████| 2/2 [00:00<00:00, 33.43it/s]\n",
      " 80%|████████  | 4/5 [00:00<00:00, 15.85it/s]\n",
      "100%|██████████| 3/3 [00:00<00:00, 41.07it/s]\n",
      "100%|██████████| 5/5 [00:00<00:00, 15.68it/s]\n"
     ]
    }
   ],
   "source": [
    "directory = \"/home/nitin/Desktop/banglore/fresh_solution/package_images/\"\n",
    "\n",
    "for folder in tqdm(os.listdir(directory)):\n",
    "    for img in tqdm(os.listdir(directory+folder)):\n",
    "        if not str(folder).startswith(\".\"):\n",
    "\n",
    "            img_name = directory+folder+\"/\"+img\n",
    "\n",
    "            img = cv2.imread(img_name) \n",
    "            stretch_near = cv2.resize(img, (1000, 1000),interpolation = cv2.INTER_NEAREST) \n",
    "            im = cv2.bilateralFilter(np.array( img,dtype=np.uint8),9,70,70)\n",
    "            imb = cv2.cvtColor(img, cv2.COLOR_BGR2GRAY)\n",
    "            im = cv2.adaptiveThreshold(imb, 255, cv2.ADAPTIVE_THRESH_GAUSSIAN_C, cv2.THRESH_BINARY, 35 ,3)\n",
    "\n",
    "            filename = img_name.split(\".\")[0] + \"_new.\" + img_name.split(\".\")[1]\n",
    "            cv2.imwrite(filename, im) "
   ]
  },
  {
   "cell_type": "code",
   "execution_count": null,
   "metadata": {},
   "outputs": [],
   "source": []
  }
 ],
 "metadata": {
  "kernelspec": {
   "display_name": "Python 3",
   "language": "python",
   "name": "python3"
  },
  "language_info": {
   "codemirror_mode": {
    "name": "ipython",
    "version": 3
   },
   "file_extension": ".py",
   "mimetype": "text/x-python",
   "name": "python",
   "nbconvert_exporter": "python",
   "pygments_lexer": "ipython3",
   "version": "3.7.5"
  }
 },
 "nbformat": 4,
 "nbformat_minor": 2
}
