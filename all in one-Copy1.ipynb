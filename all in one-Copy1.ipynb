{
 "cells": [
  {
   "cell_type": "code",
   "execution_count": 1,
   "metadata": {},
   "outputs": [
    {
     "name": "stderr",
     "output_type": "stream",
     "text": [
      "Using TensorFlow backend.\n"
     ]
    }
   ],
   "source": [
    "import matplotlib.pyplot as plt\n",
    "import os\n",
    "import cv2\n",
    "from tqdm import tqdm\n",
    "import numpy as np\n",
    "from keras import backend as K\n",
    "import keras\n",
    "import cv2\n",
    "from Utils import *\n",
    "from sklearn.model_selection import train_test_split\n",
    "from keras.callbacks import ModelCheckpoint\n",
    "from keras.optimizers import Adam\n",
    "from keras.layers import *\n",
    "from keras.applications.mobilenet_v2 import MobileNetV2\n",
    "import tensorflow as tf\n",
    "import numpy as np\n",
    "from keras.models import Model\n",
    "from keras.models import model_from_json\n",
    "import matplotlib.pyplot as plt\n",
    "import os\n",
    "from PIL import Image\n",
    "import pytesseract"
   ]
  },
  {
   "cell_type": "code",
   "execution_count": 2,
   "metadata": {},
   "outputs": [
    {
     "name": "stderr",
     "output_type": "stream",
     "text": [
      "  0%|          | 0/5 [00:00<?, ?it/s]\n",
      "100%|██████████| 3/3 [00:00<00:00, 61.07it/s]\n",
      "\n",
      "100%|██████████| 3/3 [00:00<00:00, 74.01it/s]\n",
      "\n",
      "100%|██████████| 2/2 [00:00<00:00, 77.49it/s]\n",
      " 60%|██████    | 3/5 [00:00<00:00, 24.93it/s]\n",
      "100%|██████████| 2/2 [00:00<00:00, 54.96it/s]\n",
      "\n",
      "100%|██████████| 3/3 [00:00<00:00, 77.01it/s]\n",
      "100%|██████████| 5/5 [00:00<00:00, 25.00it/s]\n"
     ]
    }
   ],
   "source": [
    "directory = \"/home/nitin/Desktop/banglore/fresh_solution/package_images/\"\n",
    "\n",
    "for folder in tqdm(os.listdir(directory)):\n",
    "    for img in tqdm(os.listdir(directory+folder)):\n",
    "        if not str(folder).startswith(\".\"):\n",
    "\n",
    "            img_name = directory+folder+\"/\"+img\n",
    "\n",
    "            img = cv2.imread(img_name) \n",
    "            stretch_near = cv2.resize(img, (1000, 1000),interpolation = cv2.INTER_NEAREST) \n",
    "            im = cv2.bilateralFilter(np.array( img,dtype=np.uint8),9,70,70)\n",
    "            imb = cv2.cvtColor(img, cv2.COLOR_BGR2GRAY)\n",
    "            im = cv2.adaptiveThreshold(imb, 255, cv2.ADAPTIVE_THRESH_GAUSSIAN_C, cv2.THRESH_BINARY, 35 ,3)\n",
    "\n",
    "            filename = img_name.split(\".\")[0] + \"_new.\" + img_name.split(\".\")[1]\n",
    "            cv2.imwrite(filename, im) "
   ]
  },
  {
   "cell_type": "code",
   "execution_count": 3,
   "metadata": {},
   "outputs": [],
   "source": [
    "#Variable Definition\n",
    "img_w = 512\n",
    "img_h = 512\n",
    "channels = 3\n",
    "classes = 1\n",
    "info = 5\n",
    "grid_w = 16\n",
    "grid_h = 16"
   ]
  },
  {
   "cell_type": "code",
   "execution_count": 4,
   "metadata": {},
   "outputs": [],
   "source": [
    "def load_model(strr):        \n",
    "    json_file = open(strr, 'r')\n",
    "    loaded_model_json = json_file.read()\n",
    "    json_file.close()\n",
    "    loaded_model = model_from_json(loaded_model_json)\n",
    "    return loaded_model\n"
   ]
  },
  {
   "cell_type": "code",
   "execution_count": 5,
   "metadata": {},
   "outputs": [],
   "source": [
    "model = load_model('model1/text_detect_model.json')\n",
    "model.load_weights('model1/text_detect.h5')"
   ]
  },
  {
   "cell_type": "code",
   "execution_count": 6,
   "metadata": {},
   "outputs": [],
   "source": [
    "def predict_func(model , inp , iou , name, l, k):\n",
    "\n",
    "    ans = model.predict(inp)\n",
    "    \n",
    "    #np.save('Results/ans.npy',ans)\n",
    "    boxes = decode(ans[0] , img_w , img_h , iou)\n",
    "    \n",
    "    img = ((inp + 1)/2)\n",
    "    img = img[0]\n",
    "    #plt.imshow(img)\n",
    "    #plt.show()\n",
    "    j=1\n",
    "    \n",
    "    for i in boxes:\n",
    "    \n",
    "        i = [int(x) for x in i]\n",
    "\n",
    "        img = cv2.rectangle(img , (i[0] ,i[1]) , (i[2] , i[3]) , color = (0,255,0) , thickness = 2)\n",
    "        crop_img = img[i[1]:i[3], i[0]:i[2]]\n",
    "\n",
    "        \n",
    "        cv2.imwrite(os.path.join(k , l.split(\".\")[0] + \"_\"+ str(j)+'.jpg') , crop_img*255.0)\n",
    "        #plt.imshow(crop_img)\n",
    "        #plt.show()\n",
    "        j = j+1\n",
    "        \n",
    "\n",
    "         \n",
    "     \n"
   ]
  },
  {
   "cell_type": "code",
   "execution_count": 8,
   "metadata": {},
   "outputs": [
    {
     "name": "stderr",
     "output_type": "stream",
     "text": [
      "  0%|          | 0/5 [00:00<?, ?it/s]\n",
      "  0%|          | 0/6 [00:00<?, ?it/s]\u001b[A"
     ]
    },
    {
     "name": "stdout",
     "output_type": "stream",
     "text": [
      "/home/nitin/Desktop/banglore/fresh_solution/package_images/3/02_new.jpg\n"
     ]
    },
    {
     "name": "stderr",
     "output_type": "stream",
     "text": [
      "\n",
      " 17%|█▋        | 1/6 [00:01<00:07,  1.53s/it]\u001b[A"
     ]
    },
    {
     "name": "stdout",
     "output_type": "stream",
     "text": [
      "/home/nitin/Desktop/banglore/fresh_solution/package_images/3/01_new.jpg\n"
     ]
    },
    {
     "name": "stderr",
     "output_type": "stream",
     "text": [
      "\n",
      " 50%|█████     | 3/6 [00:01<00:03,  1.10s/it]\u001b[A\n",
      "100%|██████████| 6/6 [00:01<00:00,  3.10it/s]\u001b[A\n",
      " 20%|██        | 1/5 [00:01<00:07,  1.94s/it]\n",
      "  0%|          | 0/6 [00:00<?, ?it/s]\u001b[A"
     ]
    },
    {
     "name": "stdout",
     "output_type": "stream",
     "text": [
      "/home/nitin/Desktop/banglore/fresh_solution/package_images/3/03_new.jpeg\n",
      "/home/nitin/Desktop/banglore/fresh_solution/package_images/5/02_new.jpeg\n"
     ]
    },
    {
     "name": "stderr",
     "output_type": "stream",
     "text": [
      "\n",
      " 33%|███▎      | 2/6 [00:00<00:00,  9.28it/s]\u001b[A\n",
      " 83%|████████▎ | 5/6 [00:00<00:00, 10.65it/s]\u001b[A"
     ]
    },
    {
     "name": "stdout",
     "output_type": "stream",
     "text": [
      "/home/nitin/Desktop/banglore/fresh_solution/package_images/5/01_new.jpeg\n",
      "/home/nitin/Desktop/banglore/fresh_solution/package_images/5/03_new.jpeg\n"
     ]
    },
    {
     "name": "stderr",
     "output_type": "stream",
     "text": [
      "\n",
      "100%|██████████| 6/6 [00:00<00:00, 10.02it/s]\u001b[A\n",
      " 40%|████      | 2/5 [00:02<00:04,  1.54s/it]\n",
      "  0%|          | 0/4 [00:00<?, ?it/s]\u001b[A"
     ]
    },
    {
     "name": "stdout",
     "output_type": "stream",
     "text": [
      "/home/nitin/Desktop/banglore/fresh_solution/package_images/2/02_new.jpg\n"
     ]
    },
    {
     "name": "stderr",
     "output_type": "stream",
     "text": [
      "\n",
      " 25%|██▌       | 1/4 [00:00<00:00,  4.88it/s]\u001b[A\n",
      "100%|██████████| 4/4 [00:00<00:00, 10.03it/s]\u001b[A\n",
      " 60%|██████    | 3/5 [00:02<00:02,  1.20s/it]\n",
      "  0%|          | 0/4 [00:00<?, ?it/s]\u001b[A"
     ]
    },
    {
     "name": "stdout",
     "output_type": "stream",
     "text": [
      "/home/nitin/Desktop/banglore/fresh_solution/package_images/2/01_new.jpg\n",
      "/home/nitin/Desktop/banglore/fresh_solution/package_images/4/02_new.jpg\n"
     ]
    },
    {
     "name": "stderr",
     "output_type": "stream",
     "text": [
      "\n",
      " 25%|██▌       | 1/4 [00:00<00:00,  5.32it/s]\u001b[A"
     ]
    },
    {
     "name": "stdout",
     "output_type": "stream",
     "text": [
      "/home/nitin/Desktop/banglore/fresh_solution/package_images/4/01_new.jpg\n"
     ]
    },
    {
     "name": "stderr",
     "output_type": "stream",
     "text": [
      "\n",
      "100%|██████████| 4/4 [00:00<00:00,  9.93it/s]\u001b[A\n",
      " 80%|████████  | 4/5 [00:03<00:00,  1.04it/s]\n",
      "  0%|          | 0/6 [00:00<?, ?it/s]\u001b[A"
     ]
    },
    {
     "name": "stdout",
     "output_type": "stream",
     "text": [
      "/home/nitin/Desktop/banglore/fresh_solution/package_images/1/2_new.jpeg\n"
     ]
    },
    {
     "name": "stderr",
     "output_type": "stream",
     "text": [
      "\n",
      " 17%|█▋        | 1/6 [00:00<00:01,  4.74it/s]\u001b[A\n",
      " 83%|████████▎ | 5/6 [00:00<00:00,  6.16it/s]\u001b[A"
     ]
    },
    {
     "name": "stdout",
     "output_type": "stream",
     "text": [
      "/home/nitin/Desktop/banglore/fresh_solution/package_images/1/01_new.jpeg\n",
      "/home/nitin/Desktop/banglore/fresh_solution/package_images/1/03_new.jpeg\n"
     ]
    },
    {
     "name": "stderr",
     "output_type": "stream",
     "text": [
      "\n",
      "100%|██████████| 6/6 [00:00<00:00, 10.08it/s]\u001b[A\n",
      "100%|██████████| 5/5 [00:03<00:00,  1.27it/s]\n"
     ]
    }
   ],
   "source": [
    "directory = \"/home/nitin/Desktop/banglore/fresh_solution/package_images/\"\n",
    "\n",
    "for folder in tqdm(os.listdir(directory)):\n",
    "    os.mkdir(\"/home/nitin/Desktop/banglore/fresh_solution/Results/\"+folder)\n",
    "\n",
    "    for img in tqdm(os.listdir(directory+folder)):\n",
    "        if not str(folder).startswith(\".\") and \"new\" in str(img):\n",
    "\n",
    "            k = \"/home/nitin/Desktop/banglore/fresh_solution/Results/\"+folder+\"/\"+img.split(\".\")[0]\n",
    "            l = str(img)\n",
    "            os.mkdir(k)\n",
    "\n",
    "\n",
    "            img_name = directory+folder+\"/\"+img\n",
    "\n",
    "            print(img_name)\n",
    "\n",
    "            \n",
    "            img = cv2.imread(img_name) \n",
    "            img = cv2.resize(img,(512,512))\n",
    "            img = (img - 127.5)/127.5\n",
    "            \n",
    "            predict_func(model , np.expand_dims(img,axis= 0) , 0.5 , 'sample', l, k)\n",
    "            \n",
    "        \n",
    "            "
   ]
  },
  {
   "cell_type": "code",
   "execution_count": 9,
   "metadata": {},
   "outputs": [
    {
     "name": "stderr",
     "output_type": "stream",
     "text": [
      "  0%|          | 0/5 [00:00<?, ?it/s]\n",
      "  0%|          | 0/3 [00:00<?, ?it/s]\u001b[A\n",
      "\n",
      "  0%|          | 0/6 [00:00<?, ?it/s]\u001b[A\u001b[A\n",
      "\n",
      " 17%|█▋        | 1/6 [00:00<00:02,  2.11it/s]\u001b[A\u001b[A\n",
      "\n",
      " 33%|███▎      | 2/6 [00:00<00:01,  2.32it/s]\u001b[A\u001b[A\n",
      "\n",
      " 50%|█████     | 3/6 [00:01<00:01,  2.62it/s]\u001b[A\u001b[A\n",
      "\n",
      " 67%|██████▋   | 4/6 [00:01<00:00,  2.78it/s]\u001b[A\u001b[A\n",
      "\n",
      " 83%|████████▎ | 5/6 [00:01<00:00,  2.85it/s]\u001b[A\u001b[A\n",
      "\n",
      "100%|██████████| 6/6 [00:02<00:00,  2.98it/s]\u001b[A\u001b[A\n",
      "\n",
      " 33%|███▎      | 1/3 [00:02<00:04,  2.02s/it]\u001b[A\n",
      "\n",
      "  0%|          | 0/5 [00:00<?, ?it/s]\u001b[A\u001b[A\n",
      "\n",
      " 20%|██        | 1/5 [00:00<00:01,  2.75it/s]\u001b[A\u001b[A\n",
      "\n",
      " 40%|████      | 2/5 [00:00<00:01,  2.91it/s]\u001b[A\u001b[A\n",
      "\n",
      " 60%|██████    | 3/5 [00:01<00:00,  2.51it/s]\u001b[A\u001b[A\n",
      "\n",
      " 80%|████████  | 4/5 [00:01<00:00,  2.82it/s]\u001b[A\u001b[A\n",
      "\n",
      "100%|██████████| 5/5 [00:01<00:00,  2.62it/s]\u001b[A\u001b[A\n",
      "\n",
      " 67%|██████▋   | 2/3 [00:03<00:01,  1.99s/it]\u001b[A\n",
      "\n",
      "  0%|          | 0/4 [00:00<?, ?it/s]\u001b[A\u001b[A\n",
      "\n",
      " 25%|██▌       | 1/4 [00:00<00:00,  3.59it/s]\u001b[A\u001b[A\n",
      "\n",
      " 50%|█████     | 2/4 [00:00<00:00,  3.54it/s]\u001b[A\u001b[A\n",
      "\n",
      " 75%|███████▌  | 3/4 [00:00<00:00,  3.21it/s]\u001b[A\u001b[A\n",
      "\n",
      "100%|██████████| 4/4 [00:01<00:00,  2.98it/s]\u001b[A\u001b[A\n",
      "\n",
      "100%|██████████| 3/3 [00:05<00:00,  1.76s/it]\u001b[A\n",
      " 20%|██        | 1/5 [00:05<00:21,  5.28s/it]\n",
      "  0%|          | 0/3 [00:00<?, ?it/s]\u001b[A\n",
      "\n",
      "  0%|          | 0/6 [00:00<?, ?it/s]\u001b[A\u001b[A\n",
      "\n",
      " 17%|█▋        | 1/6 [00:00<00:02,  2.40it/s]\u001b[A\u001b[A\n",
      "\n",
      " 33%|███▎      | 2/6 [00:00<00:01,  2.53it/s]\u001b[A\u001b[A\n",
      "\n",
      " 50%|█████     | 3/6 [00:01<00:01,  2.66it/s]\u001b[A\u001b[A\n",
      "\n",
      " 67%|██████▋   | 4/6 [00:01<00:00,  2.78it/s]\u001b[A\u001b[A\n",
      "\n",
      " 83%|████████▎ | 5/6 [00:01<00:00,  2.64it/s]\u001b[A\u001b[A\n",
      "\n",
      "100%|██████████| 6/6 [00:02<00:00,  2.80it/s]\u001b[A\u001b[A\n",
      "\n",
      " 33%|███▎      | 1/3 [00:02<00:04,  2.15s/it]\u001b[A\n",
      "\n",
      "  0%|          | 0/7 [00:00<?, ?it/s]\u001b[A\u001b[A\n",
      "\n",
      " 14%|█▍        | 1/7 [00:00<00:02,  2.65it/s]\u001b[A\u001b[A\n",
      "\n",
      " 29%|██▊       | 2/7 [00:00<00:02,  2.44it/s]\u001b[A\u001b[A\n",
      "\n",
      " 43%|████▎     | 3/7 [00:01<00:01,  2.50it/s]\u001b[A\u001b[A\n",
      "\n",
      " 57%|█████▋    | 4/7 [00:01<00:01,  2.47it/s]\u001b[A\u001b[A\n",
      "\n",
      " 71%|███████▏  | 5/7 [00:02<00:00,  2.37it/s]\u001b[A\u001b[A\n",
      "\n",
      " 86%|████████▌ | 6/7 [00:02<00:00,  2.59it/s]\u001b[A\u001b[A\n",
      "\n",
      "100%|██████████| 7/7 [00:02<00:00,  2.55it/s]\u001b[A\u001b[A\n",
      "\n",
      " 67%|██████▋   | 2/3 [00:04<00:02,  2.32s/it]\u001b[A\n",
      "\n",
      "  0%|          | 0/1 [00:00<?, ?it/s]\u001b[A\u001b[A\n",
      "\n",
      "100%|██████████| 1/1 [00:00<00:00,  2.74it/s]\u001b[A\u001b[A\n",
      "\n",
      "100%|██████████| 3/3 [00:05<00:00,  1.75s/it]\u001b[A\n",
      " 40%|████      | 2/5 [00:10<00:15,  5.27s/it]\n",
      "  0%|          | 0/2 [00:00<?, ?it/s]\u001b[A\n",
      "\n",
      "  0%|          | 0/3 [00:00<?, ?it/s]\u001b[A\u001b[A\n",
      "\n",
      " 33%|███▎      | 1/3 [00:00<00:00,  3.52it/s]\u001b[A\u001b[A\n",
      "\n",
      " 67%|██████▋   | 2/3 [00:00<00:00,  3.16it/s]\u001b[A\u001b[A\n",
      "\n",
      "100%|██████████| 3/3 [00:01<00:00,  2.81it/s]\u001b[A\u001b[A\n",
      "\n",
      " 50%|█████     | 1/2 [00:01<00:01,  1.07s/it]\u001b[A\n",
      "\n",
      "  0%|          | 0/3 [00:00<?, ?it/s]\u001b[A\u001b[A\n",
      "\n",
      " 33%|███▎      | 1/3 [00:00<00:00,  2.86it/s]\u001b[A\u001b[A\n",
      "\n",
      " 67%|██████▋   | 2/3 [00:00<00:00,  2.96it/s]\u001b[A\u001b[A\n",
      "\n",
      "100%|██████████| 3/3 [00:01<00:00,  2.81it/s]\u001b[A\u001b[A\n",
      "\n",
      "100%|██████████| 2/2 [00:02<00:00,  1.07s/it]\u001b[A\n",
      " 60%|██████    | 3/5 [00:12<00:08,  4.33s/it]\n",
      "  0%|          | 0/2 [00:00<?, ?it/s]\u001b[A\n",
      "\n",
      "  0%|          | 0/5 [00:00<?, ?it/s]\u001b[A\u001b[A\n",
      "\n",
      " 20%|██        | 1/5 [00:00<00:01,  3.24it/s]\u001b[A\u001b[A\n",
      "\n",
      " 40%|████      | 2/5 [00:00<00:01,  2.87it/s]\u001b[A\u001b[A\n",
      "\n",
      " 60%|██████    | 3/5 [00:01<00:00,  2.55it/s]\u001b[A\u001b[A\n",
      "\n",
      " 80%|████████  | 4/5 [00:01<00:00,  2.49it/s]\u001b[A\u001b[A\n",
      "\n",
      "100%|██████████| 5/5 [00:02<00:00,  2.47it/s]\u001b[A\u001b[A\n",
      "\n",
      " 50%|█████     | 1/2 [00:02<00:02,  2.02s/it]\u001b[A\n",
      "\n",
      "  0%|          | 0/6 [00:00<?, ?it/s]\u001b[A\u001b[A\n",
      "\n",
      " 17%|█▋        | 1/6 [00:00<00:03,  1.66it/s]\u001b[A\u001b[A\n",
      "\n",
      " 33%|███▎      | 2/6 [00:00<00:02,  1.86it/s]\u001b[A\u001b[A\n",
      "\n",
      " 50%|█████     | 3/6 [00:01<00:01,  1.82it/s]\u001b[A\u001b[A\n",
      "\n",
      " 67%|██████▋   | 4/6 [00:02<00:01,  1.88it/s]\u001b[A\u001b[A\n",
      "\n",
      " 83%|████████▎ | 5/6 [00:02<00:00,  1.91it/s]\u001b[A\u001b[A\n",
      "\n",
      "100%|██████████| 6/6 [00:02<00:00,  2.03it/s]\u001b[A\u001b[A\n",
      "\n",
      "100%|██████████| 2/2 [00:04<00:00,  2.49s/it]\u001b[A\n",
      " 80%|████████  | 4/5 [00:17<00:04,  4.53s/it]\n",
      "  0%|          | 0/3 [00:00<?, ?it/s]\u001b[A\n",
      "\n",
      "  0%|          | 0/7 [00:00<?, ?it/s]\u001b[A\u001b[A\n",
      "\n",
      " 14%|█▍        | 1/7 [00:00<00:02,  2.28it/s]\u001b[A\u001b[A\n",
      "\n",
      " 29%|██▊       | 2/7 [00:00<00:02,  2.23it/s]\u001b[A\u001b[A\n",
      "\n",
      " 43%|████▎     | 3/7 [00:01<00:01,  2.44it/s]\u001b[A\u001b[A\n",
      "\n",
      " 57%|█████▋    | 4/7 [00:01<00:01,  2.49it/s]\u001b[A\u001b[A\n",
      "\n",
      " 71%|███████▏  | 5/7 [00:02<00:00,  2.38it/s]\u001b[A\u001b[A\n",
      "\n",
      " 86%|████████▌ | 6/7 [00:02<00:00,  2.54it/s]\u001b[A\u001b[A\n",
      "\n",
      "100%|██████████| 7/7 [00:02<00:00,  2.55it/s]\u001b[A\u001b[A\n",
      "\n",
      " 33%|███▎      | 1/3 [00:02<00:05,  2.75s/it]\u001b[A\n",
      "\n",
      "  0%|          | 0/6 [00:00<?, ?it/s]\u001b[A\u001b[A\n",
      "\n",
      " 17%|█▋        | 1/6 [00:00<00:01,  2.54it/s]\u001b[A\u001b[A\n",
      "\n",
      " 33%|███▎      | 2/6 [00:00<00:01,  2.67it/s]\u001b[A\u001b[A\n",
      "\n",
      " 50%|█████     | 3/6 [00:01<00:01,  2.65it/s]\u001b[A\u001b[A\n",
      "\n",
      " 67%|██████▋   | 4/6 [00:01<00:00,  2.69it/s]\u001b[A\u001b[A\n",
      "\n",
      " 83%|████████▎ | 5/6 [00:01<00:00,  2.66it/s]\u001b[A\u001b[A\n",
      "\n",
      "100%|██████████| 6/6 [00:02<00:00,  2.56it/s]\u001b[A\u001b[A\n",
      "\n",
      " 67%|██████▋   | 2/3 [00:05<00:02,  2.63s/it]\u001b[A\n",
      "\n",
      "  0%|          | 0/12 [00:00<?, ?it/s]\u001b[A\u001b[A\n",
      "\n",
      "  8%|▊         | 1/12 [00:00<00:03,  2.91it/s]\u001b[A\u001b[A\n",
      "\n",
      " 17%|█▋        | 2/12 [00:00<00:03,  2.88it/s]\u001b[A\u001b[A\n",
      "\n",
      " 25%|██▌       | 3/12 [00:01<00:03,  2.84it/s]\u001b[A\u001b[A\n",
      "\n",
      " 33%|███▎      | 4/12 [00:01<00:02,  2.89it/s]\u001b[A\u001b[A\n",
      "\n",
      " 42%|████▏     | 5/12 [00:01<00:02,  2.76it/s]\u001b[A\u001b[A\n",
      "\n",
      " 50%|█████     | 6/12 [00:02<00:02,  2.69it/s]\u001b[A\u001b[A\n",
      "\n",
      " 58%|█████▊    | 7/12 [00:02<00:02,  2.49it/s]\u001b[A\u001b[A\n",
      "\n",
      " 67%|██████▋   | 8/12 [00:03<00:01,  2.58it/s]\u001b[A\u001b[A\n",
      "\n",
      " 75%|███████▌  | 9/12 [00:03<00:01,  2.58it/s]\u001b[A\u001b[A\n",
      "\n",
      " 83%|████████▎ | 10/12 [00:03<00:00,  2.66it/s]\u001b[A\u001b[A\n",
      "\n",
      " 92%|█████████▏| 11/12 [00:04<00:00,  2.66it/s]\u001b[A\u001b[A\n",
      "\n",
      "100%|██████████| 12/12 [00:04<00:00,  2.66it/s]\u001b[A\u001b[A\n",
      "\n",
      "100%|██████████| 3/3 [00:09<00:00,  3.20s/it]\u001b[A\n",
      "100%|██████████| 5/5 [00:27<00:00,  5.46s/it]\n"
     ]
    }
   ],
   "source": [
    "Text = []\n",
    "File = []\n",
    "\n",
    "directory = \"/home/nitin/Desktop/banglore/fresh_solution/Results/\"\n",
    "\n",
    "for folder in tqdm(os.listdir(directory)):\n",
    "    for folder2 in tqdm(os.listdir(directory+folder)):\n",
    "        for img in tqdm(os.listdir(directory+folder+\"/\"+folder2)):\n",
    "            if not str(folder).startswith(\".\"):\n",
    "                #print(directory+folder+\"/\"+folder2+\"/\"+img)\n",
    "                im = Image.open(directory+folder+\"/\"+folder2+\"/\"+img)\n",
    "                newsize = (1000, 1000) \n",
    "                im1 = im.resize(newsize)\n",
    "                text = pytesseract.image_to_string(im1,lang=\"eng\")\n",
    "                Text.append(text)\n",
    "                File.append(folder+\"/\"+folder2+\"/\"+img)\n",
    "                \n",
    "    \n",
    "    \n",
    "            \n"
   ]
  },
  {
   "cell_type": "code",
   "execution_count": 10,
   "metadata": {},
   "outputs": [
    {
     "data": {
      "application/javascript": [
       "\n",
       "        if (window._pyforest_update_imports_cell) { window._pyforest_update_imports_cell('import pandas as pd'); }\n",
       "    "
      ],
      "text/plain": [
       "<IPython.core.display.Javascript object>"
      ]
     },
     "metadata": {},
     "output_type": "display_data"
    },
    {
     "data": {
      "application/javascript": [
       "\n",
       "        if (window._pyforest_update_imports_cell) { window._pyforest_update_imports_cell('import pandas as pd'); }\n",
       "    "
      ],
      "text/plain": [
       "<IPython.core.display.Javascript object>"
      ]
     },
     "metadata": {},
     "output_type": "display_data"
    },
    {
     "data": {
      "application/javascript": [
       "\n",
       "        if (window._pyforest_update_imports_cell) { window._pyforest_update_imports_cell('import pandas as pd'); }\n",
       "    "
      ],
      "text/plain": [
       "<IPython.core.display.Javascript object>"
      ]
     },
     "metadata": {},
     "output_type": "display_data"
    }
   ],
   "source": [
    "text = pd.DataFrame(Text)\n",
    "file = pd.DataFrame(File)\n",
    "df = pd.concat([file,text],axis =1)\n",
    "df.to_csv(\"new1.csv\")\n"
   ]
  },
  {
   "cell_type": "code",
   "execution_count": null,
   "metadata": {},
   "outputs": [],
   "source": []
  },
  {
   "cell_type": "code",
   "execution_count": null,
   "metadata": {},
   "outputs": [],
   "source": []
  },
  {
   "cell_type": "code",
   "execution_count": null,
   "metadata": {},
   "outputs": [],
   "source": []
  }
 ],
 "metadata": {
  "kernelspec": {
   "display_name": "Python 3",
   "language": "python",
   "name": "python3"
  },
  "language_info": {
   "codemirror_mode": {
    "name": "ipython",
    "version": 3
   },
   "file_extension": ".py",
   "mimetype": "text/x-python",
   "name": "python",
   "nbconvert_exporter": "python",
   "pygments_lexer": "ipython3",
   "version": "3.7.5"
  }
 },
 "nbformat": 4,
 "nbformat_minor": 2
}
